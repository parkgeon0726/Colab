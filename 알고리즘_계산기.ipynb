{
  "nbformat": 4,
  "nbformat_minor": 0,
  "metadata": {
    "colab": {
      "provenance": [],
      "authorship_tag": "ABX9TyNAXKvEyRiZZj5V/MKGVpsn",
      "include_colab_link": true
    },
    "kernelspec": {
      "name": "python3",
      "display_name": "Python 3"
    },
    "language_info": {
      "name": "python"
    }
  },
  "cells": [
    {
      "cell_type": "markdown",
      "metadata": {
        "id": "view-in-github",
        "colab_type": "text"
      },
      "source": [
        "<a href=\"https://colab.research.google.com/github/parkgeon0726/Colab/blob/main/%EC%95%8C%EA%B3%A0%EB%A6%AC%EC%A6%98_%EA%B3%84%EC%82%B0%EA%B8%B0.ipynb\" target=\"_parent\"><img src=\"https://colab.research.google.com/assets/colab-badge.svg\" alt=\"Open In Colab\"/></a>"
      ]
    },
    {
      "cell_type": "markdown",
      "source": [
        "계산기\n"
      ],
      "metadata": {
        "id": "qOJKLYAgVmiL"
      }
    },
    {
      "cell_type": "code",
      "execution_count": 6,
      "metadata": {
        "colab": {
          "base_uri": "https://localhost:8080/"
        },
        "id": "VuxicmgQSn91",
        "outputId": "88be43c9-a127-4cc2-d727-1a9f5a415340"
      },
      "outputs": [
        {
          "name": "stdout",
          "output_type": "stream",
          "text": [
            "두 개의 숫자를 띄어쓰기로 입력(종료: 0 0) ▶ 0 0\n"
          ]
        }
      ],
      "source": [
        "def multi(x, y):\n",
        "    return x * y\n",
        "\n",
        "while True:\n",
        "    a, b = map(int, input(\"두 개의 숫자를 띄어쓰기로 입력(종료: 0 0) ▶ \").split())\n",
        "    if a == 0 and b == 0:\n",
        "        break\n",
        "    print(f\"결과: {multi(a, b)}\")"
      ]
    },
    {
      "cell_type": "code",
      "source": [],
      "metadata": {
        "id": "wriERwmDVtL_"
      },
      "execution_count": null,
      "outputs": []
    },
    {
      "cell_type": "code",
      "source": [],
      "metadata": {
        "id": "IDE-4yqvVtOC"
      },
      "execution_count": null,
      "outputs": []
    },
    {
      "cell_type": "code",
      "source": [],
      "metadata": {
        "id": "wpiw0hFQVt5Q"
      },
      "execution_count": null,
      "outputs": []
    }
  ]
}