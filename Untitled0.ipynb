{
  "nbformat": 4,
  "nbformat_minor": 0,
  "metadata": {
    "colab": {
      "provenance": [],
      "authorship_tag": "ABX9TyNSoavHUGAWpFk+rHVXvbUh",
      "include_colab_link": true
    },
    "kernelspec": {
      "name": "python3",
      "display_name": "Python 3"
    },
    "language_info": {
      "name": "python"
    }
  },
  "cells": [
    {
      "cell_type": "markdown",
      "metadata": {
        "id": "view-in-github",
        "colab_type": "text"
      },
      "source": [
        "<a href=\"https://colab.research.google.com/github/parkgeon0726/Colab/blob/main/Untitled0.ipynb\" target=\"_parent\"><img src=\"https://colab.research.google.com/assets/colab-badge.svg\" alt=\"Open In Colab\"/></a>"
      ]
    },
    {
      "cell_type": "code",
      "source": [
        "#1 내용에 일단 맞춰줌\n",
        "for i in range(2,1001):\n",
        "  flag = True\n",
        "  for j in range(2,i):\n",
        "      if(i % j == 0):\n",
        "          flag = False\n",
        "          break\n",
        "  if(flag):\n",
        "    print(i , end=\" \")"
      ],
      "metadata": {
        "colab": {
          "base_uri": "https://localhost:8080/"
        },
        "id": "8_CbLsvmW0LL",
        "outputId": "ee090749-9452-44c4-f75c-c8762474255b"
      },
      "execution_count": 16,
      "outputs": [
        {
          "output_type": "stream",
          "name": "stdout",
          "text": [
            "2 3 5 7 11 13 17 19 23 29 31 37 41 43 47 53 59 61 67 71 73 79 83 89 97 101 103 107 109 113 127 131 137 139 149 151 157 163 167 173 179 181 191 193 197 199 211 223 227 229 233 239 241 251 257 263 269 271 277 281 283 293 307 311 313 317 331 337 347 349 353 359 367 373 379 383 389 397 401 409 419 421 431 433 439 443 449 457 461 463 467 479 487 491 499 503 509 521 523 541 547 557 563 569 571 577 587 593 599 601 607 613 617 619 631 641 643 647 653 659 661 673 677 683 691 701 709 719 727 733 739 743 751 757 761 769 773 787 797 809 811 821 823 827 829 839 853 857 859 863 877 881 883 887 907 911 919 929 937 941 947 953 967 971 977 983 991 997 "
          ]
        }
      ]
    },
    {
      "cell_type": "code",
      "source": [
        "#2 정렬기준 추가\n",
        "count = 0\n",
        "for i in range(2,1001):\n",
        "  flag = True\n",
        "  for j in range(2,i):\n",
        "      if(i % j == 0):\n",
        "          flag = False\n",
        "          break\n",
        "  if(flag):\n",
        "    print(i , end=\" \")\n",
        "    count += 1\n",
        "    if(count % 7 == 0) :\n",
        "      print()"
      ],
      "metadata": {
        "colab": {
          "base_uri": "https://localhost:8080/"
        },
        "id": "MpYuKV3hYLeU",
        "outputId": "b69a147c-2b21-4f46-c225-86447b428028"
      },
      "execution_count": 17,
      "outputs": [
        {
          "output_type": "stream",
          "name": "stdout",
          "text": [
            "2 3 5 7 11 13 17 \n",
            "19 23 29 31 37 41 43 \n",
            "47 53 59 61 67 71 73 \n",
            "79 83 89 97 101 103 107 \n",
            "109 113 127 131 137 139 149 \n",
            "151 157 163 167 173 179 181 \n",
            "191 193 197 199 211 223 227 \n",
            "229 233 239 241 251 257 263 \n",
            "269 271 277 281 283 293 307 \n",
            "311 313 317 331 337 347 349 \n",
            "353 359 367 373 379 383 389 \n",
            "397 401 409 419 421 431 433 \n",
            "439 443 449 457 461 463 467 \n",
            "479 487 491 499 503 509 521 \n",
            "523 541 547 557 563 569 571 \n",
            "577 587 593 599 601 607 613 \n",
            "617 619 631 641 643 647 653 \n",
            "659 661 673 677 683 691 701 \n",
            "709 719 727 733 739 743 751 \n",
            "757 761 769 773 787 797 809 \n",
            "811 821 823 827 829 839 853 \n",
            "857 859 863 877 881 883 887 \n",
            "907 911 919 929 937 941 947 \n",
            "953 967 971 977 983 991 997 \n"
          ]
        }
      ]
    },
    {
      "cell_type": "code",
      "source": [
        "#2 파일관련 내용 추가\n",
        "f = open(\"prime.txt\" , \"w\")\n",
        "count = 0\n",
        "for i in range(2,1001):\n",
        "  flag = True\n",
        "  for j in range(2,i):\n",
        "      if(i % j == 0):\n",
        "          flag = False\n",
        "          break\n",
        "  if(flag):\n",
        "    print(i , end=\" \")\n",
        "    data = \"%d  \" % i\n",
        "    f.write(data)\n",
        "    count += 1\n",
        "    if(count % 7 == 0) :\n",
        "      print()\n",
        "      f.write(\"\\n\")\n",
        "f.close()"
      ],
      "metadata": {
        "colab": {
          "base_uri": "https://localhost:8080/"
        },
        "id": "OzENEP9QYLgR",
        "outputId": "15ae3623-73a0-403e-e78b-c713f9fc585c"
      },
      "execution_count": 19,
      "outputs": [
        {
          "output_type": "stream",
          "name": "stdout",
          "text": [
            "2 3 5 7 11 13 17 \n",
            "19 23 29 31 37 41 43 \n",
            "47 53 59 61 67 71 73 \n",
            "79 83 89 97 101 103 107 \n",
            "109 113 127 131 137 139 149 \n",
            "151 157 163 167 173 179 181 \n",
            "191 193 197 199 211 223 227 \n",
            "229 233 239 241 251 257 263 \n",
            "269 271 277 281 283 293 307 \n",
            "311 313 317 331 337 347 349 \n",
            "353 359 367 373 379 383 389 \n",
            "397 401 409 419 421 431 433 \n",
            "439 443 449 457 461 463 467 \n",
            "479 487 491 499 503 509 521 \n",
            "523 541 547 557 563 569 571 \n",
            "577 587 593 599 601 607 613 \n",
            "617 619 631 641 643 647 653 \n",
            "659 661 673 677 683 691 701 \n",
            "709 719 727 733 739 743 751 \n",
            "757 761 769 773 787 797 809 \n",
            "811 821 823 827 829 839 853 \n",
            "857 859 863 877 881 883 887 \n",
            "907 911 919 929 937 941 947 \n",
            "953 967 971 977 983 991 997 \n"
          ]
        }
      ]
    },
    {
      "cell_type": "code",
      "source": [],
      "metadata": {
        "id": "eftfqBTNdhda"
      },
      "execution_count": null,
      "outputs": []
    },
    {
      "cell_type": "code",
      "source": [
        "def multi(x, y):\n",
        "    return x * y\n",
        "\n",
        "count = 0\n",
        "while True:\n",
        "    a, b = map(int, input(\"두 개의 숫자를 띄어쓰기로 입력(종료: 0 0) ▶ \").split())\n",
        "    if a == 0 and b == 0:\n",
        "        break\n",
        "    print(f\"결과: {multi(a, b)}\")\n",
        "    count += 1\n",
        "print(f\"총 연산 횟수: {count}\")"
      ],
      "metadata": {
        "colab": {
          "base_uri": "https://localhost:8080/"
        },
        "id": "kIN94Zi4fpXK",
        "outputId": "c3047f71-c986-432e-d317-13cd774aee6c"
      },
      "execution_count": 27,
      "outputs": [
        {
          "output_type": "stream",
          "name": "stdout",
          "text": [
            "두 개의 숫자를 띄어쓰기로 입력(종료: 0 0) ▶ 8 8\n",
            "결과: 64\n",
            "두 개의 숫자를 띄어쓰기로 입력(종료: 0 0) ▶ 7 7\n",
            "결과: 49\n",
            "두 개의 숫자를 띄어쓰기로 입력(종료: 0 0) ▶ 118 119\n",
            "결과: 14042\n",
            "두 개의 숫자를 띄어쓰기로 입력(종료: 0 0) ▶ 0 0\n",
            "총 연산 횟수: 3\n"
          ]
        }
      ]
    },
    {
      "cell_type": "code",
      "source": [
        "import random\n",
        "\n",
        "lst = [random.choice(range(3, 100, 3)) for _ in range(10)]\n",
        "total = sum(lst)\n",
        "avg = total / len(lst)\n",
        "sorted_lst = sorted(lst, reverse=True)\n",
        "\n",
        "print(\"========= 3의 배수 정렬 ==========\")\n",
        "print(\"리스트 내용 :\", \" \".join(map(str, lst)))\n",
        "print(\"리스트 정렬 :\", \" \".join(map(str, sorted_lst)))\n",
        "print(f\"총합 : {total}\")\n",
        "print(f\"평균 : {avg:.1f}\")"
      ],
      "metadata": {
        "colab": {
          "base_uri": "https://localhost:8080/"
        },
        "id": "uYqmvHNJfpZh",
        "outputId": "ed469f35-4ed4-4a34-9657-78e6c2b22e07"
      },
      "execution_count": 92,
      "outputs": [
        {
          "output_type": "stream",
          "name": "stdout",
          "text": [
            "========= 3의 배수 정렬 ==========\n",
            "리스트 내용 : 96 60 9 51 18 3 33 33 60 96\n",
            "리스트 정렬 : 96 96 60 60 51 33 33 18 9 3\n",
            "총합 : 459\n",
            "평균 : 45.9\n"
          ]
        }
      ]
    },
    {
      "cell_type": "code",
      "source": [
        "import random\n",
        "\n",
        "lst = []\n",
        "\n",
        "while len(lst) < 10:\n",
        "    a = random.randint(1, 100)\n",
        "    if a % 3 == 0:\n",
        "        lst.append(a)\n",
        "print(\"============3의 배수 정렬=============\")\n",
        "print(\"리스트 내용 :\", *lst)\n",
        "lst.sort()\n",
        "print(\"리스트 정렬 :\", *lst)\n",
        "print(\"총합 :\",sum(lst))\n",
        "print(\"평균 :\", round(sum(lst) / len(lst), 1))"
      ],
      "metadata": {
        "colab": {
          "base_uri": "https://localhost:8080/"
        },
        "id": "cz61acRtlpTX",
        "outputId": "9d0ecb38-12b1-4d6c-994f-6b72675fa1f8"
      },
      "execution_count": 108,
      "outputs": [
        {
          "output_type": "stream",
          "name": "stdout",
          "text": [
            "============3의 배수 정렬=============\n",
            "리스트 내용 : 96 30 39 45 36 54 51 63 87 93\n",
            "리스트 정렬 : 30 36 39 45 51 54 63 87 93 96\n",
            "총합 : 594\n",
            "평균 : 59.4\n"
          ]
        }
      ]
    },
    {
      "cell_type": "code",
      "source": [
        "import random as r\n",
        "import numpy as n\n",
        "\n",
        "multiples = r.sample(range(3, 100, 3), 10)\n",
        "\n",
        "print(\"========== 3의 배수 정렬 ==========\")\n",
        "print(\"리스트 내용 :\", *multiples)\n",
        "print(\"리스트 정렬 :\", *sorted(multiples, reverse=True))\n",
        "print(\"총합 :\", sum(multiples))\n",
        "print(\"평균 :\", n.mean(multiples))"
      ],
      "metadata": {
        "colab": {
          "base_uri": "https://localhost:8080/"
        },
        "id": "tUh-9ddSlpVf",
        "outputId": "bc8f9ef7-1bcd-4364-d0e9-993949774f44"
      },
      "execution_count": 107,
      "outputs": [
        {
          "output_type": "stream",
          "name": "stdout",
          "text": [
            "========== 3의 배수 정렬 ==========\n",
            "리스트 내용 : 24 99 75 84 54 63 42 9 3 36\n",
            "리스트 정렬 : 99 84 75 63 54 42 36 24 9 3\n",
            "총합 : 489\n",
            "평균 : 48.9\n"
          ]
        }
      ]
    },
    {
      "cell_type": "code",
      "source": [],
      "metadata": {
        "id": "p-8UGhdQmB65"
      },
      "execution_count": null,
      "outputs": []
    },
    {
      "cell_type": "code",
      "source": [],
      "metadata": {
        "id": "bFITMGgumB8o"
      },
      "execution_count": null,
      "outputs": []
    }
  ]
}